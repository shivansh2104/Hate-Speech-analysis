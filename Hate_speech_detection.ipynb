{
 "cells": [
  {
   "cell_type": "code",
   "execution_count": 1,
   "metadata": {
    "colab": {},
    "colab_type": "code",
    "id": "3-cqvdhifiIg"
   },
   "outputs": [],
   "source": [
    "import re\n",
    "import pandas as pd\n",
    "import numpy as np\n",
    "from numpy import random\n",
    "from sklearn.feature_extraction.text import CountVectorizer, TfidfVectorizer,TfidfTransformer\n",
    "from nltk.tokenize import sent_tokenize, word_tokenize\n",
    "from sklearn.metrics import accuracy_score\n",
    "import matplotlib.pyplot as plt\n",
    "%matplotlib inline"
   ]
  },
  {
   "cell_type": "markdown",
   "metadata": {},
   "source": [
    "Reading the datasets.\n",
    "Applying label encoder and then concatenate the two datasets"
   ]
  },
  {
   "cell_type": "code",
   "execution_count": 2,
   "metadata": {
    "colab": {
     "base_uri": "https://localhost:8080/",
     "height": 204
    },
    "colab_type": "code",
    "executionInfo": {
     "elapsed": 36426,
     "status": "ok",
     "timestamp": 1557839146475,
     "user": {
      "displayName": "Keçiler Firarda",
      "photoUrl": "https://lh5.googleusercontent.com/-dUH0FLxxGuo/AAAAAAAAAAI/AAAAAAAAAB4/oXM_qmhqFsM/s64/photo.jpg",
      "userId": "11065118399992837630"
     },
     "user_tz": -180
    },
    "id": "S00HQshNBECD",
    "outputId": "84c470cf-6d0c-4e05-c50d-744f971643ef"
   },
   "outputs": [
    {
     "name": "stdout",
     "output_type": "stream",
     "text": [
      "                                              tweets   labels\n",
      "0  RT @Papapishu: Man it would fucking rule if we...  hateful\n",
      "1  It is time to draw close to Him &#128591;&#127...   normal\n",
      "2  if you notice me start to act different or dis...   normal\n",
      "3  Forget unfollowers, I believe in growing. 7 ne...   normal\n",
      "4  RT @Vitiligoprince: Hate Being sexually Frustr...  hateful\n",
      "5  Topped the group in TGP Disc Jam Season 2! Ont...   normal\n",
      "6  That daily baby aspirin for your #heart just m...   normal\n",
      "7  I liked a @YouTube video from @mattshea https:...   normal\n",
      "8  RT @LestuhGang_: If your fucking up &amp; your...  hateful\n",
      "9  @Move_Fwd give up. You've lost. You will not c...   normal\n"
     ]
    }
   ],
   "source": [
    "\n",
    "df = pd.read_excel('hatespeech_text.xlsx', header = None)\n",
    "df.rename(columns={0:'tweets', 1:'labels'}, inplace=True)\n",
    "print(df.head(10))\n"
   ]
  },
  {
   "cell_type": "code",
   "execution_count": 3,
   "metadata": {},
   "outputs": [
    {
     "data": {
      "text/html": [
       "<div>\n",
       "<style scoped>\n",
       "    .dataframe tbody tr th:only-of-type {\n",
       "        vertical-align: middle;\n",
       "    }\n",
       "\n",
       "    .dataframe tbody tr th {\n",
       "        vertical-align: top;\n",
       "    }\n",
       "\n",
       "    .dataframe thead th {\n",
       "        text-align: right;\n",
       "    }\n",
       "</style>\n",
       "<table border=\"1\" class=\"dataframe\">\n",
       "  <thead>\n",
       "    <tr style=\"text-align: right;\">\n",
       "      <th></th>\n",
       "      <th>tweets</th>\n",
       "      <th>labels</th>\n",
       "    </tr>\n",
       "  </thead>\n",
       "  <tbody>\n",
       "    <tr>\n",
       "      <th>0</th>\n",
       "      <td>RT @Papapishu: Man it would fucking rule if we...</td>\n",
       "      <td>0</td>\n",
       "    </tr>\n",
       "    <tr>\n",
       "      <th>1</th>\n",
       "      <td>It is time to draw close to Him &amp;#128591;&amp;#127...</td>\n",
       "      <td>1</td>\n",
       "    </tr>\n",
       "    <tr>\n",
       "      <th>2</th>\n",
       "      <td>if you notice me start to act different or dis...</td>\n",
       "      <td>1</td>\n",
       "    </tr>\n",
       "    <tr>\n",
       "      <th>3</th>\n",
       "      <td>Forget unfollowers, I believe in growing. 7 ne...</td>\n",
       "      <td>1</td>\n",
       "    </tr>\n",
       "    <tr>\n",
       "      <th>4</th>\n",
       "      <td>RT @Vitiligoprince: Hate Being sexually Frustr...</td>\n",
       "      <td>0</td>\n",
       "    </tr>\n",
       "  </tbody>\n",
       "</table>\n",
       "</div>"
      ],
      "text/plain": [
       "                                              tweets  labels\n",
       "0  RT @Papapishu: Man it would fucking rule if we...       0\n",
       "1  It is time to draw close to Him &#128591;&#127...       1\n",
       "2  if you notice me start to act different or dis...       1\n",
       "3  Forget unfollowers, I believe in growing. 7 ne...       1\n",
       "4  RT @Vitiligoprince: Hate Being sexually Frustr...       0"
      ]
     },
     "execution_count": 3,
     "metadata": {},
     "output_type": "execute_result"
    }
   ],
   "source": [
    "from sklearn.preprocessing import LabelEncoder\n",
    "le=LabelEncoder()\n",
    "df['labels']=le.fit_transform(df['labels'])\n",
    "df.head()"
   ]
  },
  {
   "cell_type": "code",
   "execution_count": 4,
   "metadata": {},
   "outputs": [
    {
     "data": {
      "text/html": [
       "<div>\n",
       "<style scoped>\n",
       "    .dataframe tbody tr th:only-of-type {\n",
       "        vertical-align: middle;\n",
       "    }\n",
       "\n",
       "    .dataframe tbody tr th {\n",
       "        vertical-align: top;\n",
       "    }\n",
       "\n",
       "    .dataframe thead th {\n",
       "        text-align: right;\n",
       "    }\n",
       "</style>\n",
       "<table border=\"1\" class=\"dataframe\">\n",
       "  <thead>\n",
       "    <tr style=\"text-align: right;\">\n",
       "      <th></th>\n",
       "      <th>tweets</th>\n",
       "      <th>labels</th>\n",
       "    </tr>\n",
       "  </thead>\n",
       "  <tbody>\n",
       "    <tr>\n",
       "      <th>0</th>\n",
       "      <td>lmfaoo  😭  😭  😭  😭  😭</td>\n",
       "      <td>0</td>\n",
       "    </tr>\n",
       "    <tr>\n",
       "      <th>1</th>\n",
       "      <td>i hate this feeling  😢</td>\n",
       "      <td>0</td>\n",
       "    </tr>\n",
       "    <tr>\n",
       "      <th>2</th>\n",
       "      <td>can't believe i just went out in this cold to ...</td>\n",
       "      <td>0</td>\n",
       "    </tr>\n",
       "    <tr>\n",
       "      <th>3</th>\n",
       "      <td>i need a new trap house, so if you really fuck...</td>\n",
       "      <td>0</td>\n",
       "    </tr>\n",
       "    <tr>\n",
       "      <th>4</th>\n",
       "      <td>&lt;user&gt; so very sorry for your loss.  💔</td>\n",
       "      <td>0</td>\n",
       "    </tr>\n",
       "  </tbody>\n",
       "</table>\n",
       "</div>"
      ],
      "text/plain": [
       "                                              tweets  labels\n",
       "0                             lmfaoo  😭  😭  😭  😭  😭        0\n",
       "1                            i hate this feeling  😢        0\n",
       "2  can't believe i just went out in this cold to ...       0\n",
       "3  i need a new trap house, so if you really fuck...       0\n",
       "4            <user> so very sorry for your loss.  💔        0"
      ]
     },
     "execution_count": 4,
     "metadata": {},
     "output_type": "execute_result"
    }
   ],
   "source": [
    "de=pd.read_pickle(\"./emoji_tweets.pkl\")\n",
    "emoji = pd.DataFrame.from_dict(de)\n",
    "emoji.head()\n"
   ]
  },
  {
   "cell_type": "code",
   "execution_count": 5,
   "metadata": {},
   "outputs": [],
   "source": [
    "data = pd.concat([df,emoji])\n",
    "data.head()\n",
    "data.tweets=data.tweets.astype(str)"
   ]
  },
  {
   "cell_type": "markdown",
   "metadata": {},
   "source": [
    "Pre Processing\n",
    " 1-> For hate speech detection as the dataset contains tweets along with the actual tweets some of them include the Twitter handle of people, hashtags, links to certain websites or the tweet itself\n",
    "First, we replace all tags and hashtags with space using regex (@ [^\\s] + which means replace anything which @ accompanied by anything but a space). Then we replace all the website links with a space.\n",
    "For hate speech detection as the dataset contains tweets along with the actual tweets some of them include the Twitter handle of people, hashtags, links to certain websites or the tweet itself and emoticons. We add rt to stopwords which represents retweet. First, we replace all tags and hashtags with space using regex (@ [^\\s] + which means replace anything which @ accompanied by anything but a space). Then we replace all the website links with a space.\n",
    "Then we split the sentence into words and check if the word is present in stopwords we remove it and then again join the sentence. We then replace multiple spaces with a single space, strip the sentences for extra trailing spaces. we replace nan (not a number) values with a space and finally drop any missing values.\n"
   ]
  },
  {
   "cell_type": "code",
   "execution_count": 6,
   "metadata": {
    "colab": {
     "base_uri": "https://localhost:8080/",
     "height": 289
    },
    "colab_type": "code",
    "executionInfo": {
     "elapsed": 44263,
     "status": "ok",
     "timestamp": 1557839154357,
     "user": {
      "displayName": "Keçiler Firarda",
      "photoUrl": "https://lh5.googleusercontent.com/-dUH0FLxxGuo/AAAAAAAAAAI/AAAAAAAAAB4/oXM_qmhqFsM/s64/photo.jpg",
      "userId": "11065118399992837630"
     },
     "user_tz": -180
    },
    "id": "WtX0VBfBf9H1",
    "outputId": "8ef59a51-ef9d-44f7-9643-abab692ff12f"
   },
   "outputs": [
    {
     "name": "stderr",
     "output_type": "stream",
     "text": [
      "[nltk_data] Downloading package stopwords to\n",
      "[nltk_data]     C:\\Users\\HP\\AppData\\Roaming\\nltk_data...\n",
      "[nltk_data]   Package stopwords is already up-to-date!\n",
      "[nltk_data] Downloading package wordnet to\n",
      "[nltk_data]     C:\\Users\\HP\\AppData\\Roaming\\nltk_data...\n",
      "[nltk_data]   Package wordnet is already up-to-date!\n",
      "[nltk_data] Downloading package punkt to\n",
      "[nltk_data]     C:\\Users\\HP\\AppData\\Roaming\\nltk_data...\n",
      "[nltk_data]   Package punkt is already up-to-date!\n",
      "<ipython-input-6-5c6ab3fd789f>:16: FutureWarning: The default value of regex will change from True to False in a future version.\n",
      "  data[\"tweets\"] = data[\"tweets\"].str.replace(' +', ' ', case=False)\n"
     ]
    },
    {
     "name": "stdout",
     "output_type": "stream",
     "text": [
      "                                              tweets  labels\n",
      "0    man would fucking rule party perpetual warfare.       0\n",
      "1      time draw close & father, draw near always ❤️       1\n",
      "2  notice start act different distant.. bc peeped...       1\n",
      "3  forget unfollowers, believe growing. 7 new fol...       1\n",
      "4  hate sexually frustrated like wanna fuck ion w...       0\n",
      "5  topped group tgp disc jam season 2! onto semi-...       1\n",
      "6     daily baby aspirin might preventing colon too.       1\n",
      "7  liked video blue army coming! - ancient warfare 2       1\n",
      "8  fucking &amp; homies dont tell fucking up, ain...       0\n",
      "9  give up. lost. convince one iota read conspira...       1\n",
      "                                                  tweets  labels\n",
      "13190  clear message. use helmet save life 👇 \\n\\n<use...       1\n",
      "13191                         funny 😆 wish could get one       1\n",
      "13192                        show respect, get respect ☝       1\n",
      "13193                              waahh im happy you! 💖       1\n",
      "13194                               beautiful gorgeous 😘       1\n",
      "13195         love waking skinny ahaha wish lasted day 😅       1\n",
      "13196              magnificent pair tits 😍 cock hard 🍆 😀       1\n",
      "13197            soon mamsh 😘 god give best among best 💖       1\n",
      "13198                                          trust u 😎       1\n",
      "13199                                       aww thanks 😁       1\n"
     ]
    },
    {
     "data": {
      "text/plain": [
       "85966"
      ]
     },
     "execution_count": 6,
     "metadata": {},
     "output_type": "execute_result"
    }
   ],
   "source": [
    "import nltk\n",
    "nltk.download('stopwords')\n",
    "nltk.download('wordnet')\n",
    "nltk.download('punkt')\n",
    "from nltk.corpus import stopwords\n",
    "\n",
    "STOPWORDS = stopwords.words('english')\n",
    "STOPWORDS.append(\"rt\")\n",
    "STOPWORDS.append(\"<user>\")\n",
    "STOPWORDS.append(\"<url>\")\n",
    "def clean_text():\n",
    "    data[\"tweets\"] = data[\"tweets\"].apply(lambda x: x.lower())\n",
    "    data[\"tweets\"] = [re.sub('(@[^\\s]+)|(#[^\\s]+)', '', tweet) for tweet in data[\"tweets\"]]\n",
    "    data[\"tweets\"] = [re.sub('((www\\.[^\\s]+)|(https?://[^\\s]+))','',tweet) for tweet in data[\"tweets\"]]\n",
    "    data[\"tweets\"] = data[\"tweets\"].str.split(' ').apply(lambda tweet: ' '.join(k for k in tweet if k not in STOPWORDS))\n",
    "    data[\"tweets\"] = data[\"tweets\"].str.replace(' +', ' ', case=False)\n",
    "    data[\"tweets\"] = data[\"tweets\"].str.strip()\n",
    "    data[\"tweets\"].replace('', np.nan, inplace=True)\n",
    "    df.dropna(subset=[\"tweets\"], inplace=True)\n",
    "      \n",
    "clean_text()\n",
    "    \n",
    "print(data.head(10))\n",
    "print(data.tail(10))\n",
    "len(df)"
   ]
  },
  {
   "cell_type": "markdown",
   "metadata": {},
   "source": [
    "For emoticon function first we tokenize each word of the sentence using word_tokenize. Then we check whether the word is a emoji or not if no we add if to sentence else we convert the emoji into its corresponding meaning (ie 😀 turns to smile) using the emoji.demojize function imported from library emoji , convert the customary ':' sign attached to it to a space, remove extra spaces and then add it to the sentence."
   ]
  },
  {
   "cell_type": "code",
   "execution_count": 7,
   "metadata": {},
   "outputs": [
    {
     "data": {
      "text/plain": [
       "13195    love waking skinny ahaha wish lasted day  grin...\n",
       "13196    magnificent pair tits  smiling_face_with_heart...\n",
       "13197    soon mamsh  face_blowing_a_kiss  god give best...\n",
       "13198              trust u  smiling_face_with_sunglasses  \n",
       "13199         aww thanks  beaming_face_with_smiling_eyes  \n",
       "Name: tweets, dtype: object"
      ]
     },
     "execution_count": 7,
     "metadata": {},
     "output_type": "execute_result"
    }
   ],
   "source": [
    "import emoji\n",
    "def emoticon(sentence):\n",
    "    words=word_tokenize(sentence)\n",
    "    stem_sentence=[]\n",
    "    for word in words:\n",
    "        if emoji.demojize(word)== None:\n",
    "            stem_sentence.append(word)\n",
    "            stem_sentence.append(\" \")\n",
    "        else:\n",
    "            word= emoji.demojize(word)\n",
    "            word = word.replace(\":\",\" \")\n",
    "            stem_sentence.append(word)\n",
    "            stem_sentence.append(\" \")\n",
    "    return \"\".join(stem_sentence)\n",
    "    \n",
    "training_size = 1000000        \n",
    "sentences = data.tweets.astype(str)\n",
    "sentences = sentences[:training_size].apply(emoticon)\n",
    "sentences.head()\n",
    "sentences.tail()"
   ]
  },
  {
   "cell_type": "markdown",
   "metadata": {},
   "source": [
    "Here we convert our words into root words after analyzing its context in the sentence."
   ]
  },
  {
   "cell_type": "code",
   "execution_count": 8,
   "metadata": {},
   "outputs": [
    {
     "data": {
      "text/plain": [
       "13195    love waking skinny ahaha wish lasted day grinn...\n",
       "13196    magnificent pair tit smiling_face_with_heart-e...\n",
       "13197    soon mamsh face_blowing_a_kiss god give best a...\n",
       "13198                trust u smiling_face_with_sunglasses \n",
       "13199           aww thanks beaming_face_with_smiling_eyes \n",
       "Name: tweets, dtype: object"
      ]
     },
     "execution_count": 8,
     "metadata": {},
     "output_type": "execute_result"
    }
   ],
   "source": [
    "from nltk.tokenize import sent_tokenize, word_tokenize\n",
    "from nltk.stem import LancasterStemmer\n",
    "from nltk.stem import WordNetLemmatizer\n",
    "\n",
    "def stemSentence(sentence):\n",
    "    lemmatizer = WordNetLemmatizer()\n",
    "    stemmer = LancasterStemmer()\n",
    "    words=word_tokenize(sentence)\n",
    "    stem_sentence=[]\n",
    "    for word in words:\n",
    "        stem_sentence.append(lemmatizer.lemmatize(word))\n",
    "        stem_sentence.append(\" \")\n",
    "    return \"\".join(stem_sentence)\n",
    "training_size = 1000000\n",
    "sentences = sentences[:training_size].apply(stemSentence)\n",
    "sentences.head()\n",
    "sentences.tail()"
   ]
  },
  {
   "cell_type": "markdown",
   "metadata": {},
   "source": [
    "Splitting the dataset into 70:30 "
   ]
  },
  {
   "cell_type": "code",
   "execution_count": 9,
   "metadata": {
    "colab": {
     "base_uri": "https://localhost:8080/",
     "height": 187
    },
    "colab_type": "code",
    "executionInfo": {
     "elapsed": 44497,
     "status": "ok",
     "timestamp": 1557839154638,
     "user": {
      "displayName": "Keçiler Firarda",
      "photoUrl": "https://lh5.googleusercontent.com/-dUH0FLxxGuo/AAAAAAAAAAI/AAAAAAAAAB4/oXM_qmhqFsM/s64/photo.jpg",
      "userId": "11065118399992837630"
     },
     "user_tz": -180
    },
    "id": "lvlivu42gDDg",
    "outputId": "ef36d3b0-42be-42e5-fac9-b2169212f6cf"
   },
   "outputs": [
    {
     "name": "stdout",
     "output_type": "stream",
     "text": [
      "Total   tweet count: 99166\n",
      "Normal  tweet count: 60450\n",
      "Hateful tweet count: 38716 \n",
      "\n",
      "Total tweet count in training sampple: 69416\n",
      "Total tweet count in test sample:     29750\n",
      "Normal  tweet count in X_train: 42344\n",
      "Hateful tweet count in X_train: 27072\n",
      "Normal  tweet count in X_test:  18106\n",
      "Hateful tweet count in X_test:  11644\n"
     ]
    }
   ],
   "source": [
    "from sklearn.model_selection import train_test_split\n",
    "\n",
    "# Data splitting\n",
    "X = sentences\n",
    "y = data[\"labels\"]\n",
    "X_train, X_test, y_train, y_test = train_test_split(X, y, test_size=0.3, random_state = 42)\n",
    "\n",
    "print ('Total   tweet count:', len(data))\n",
    "print ('Normal  tweet count:', len(data[data.labels == 1]))\n",
    "print ('Hateful tweet count:', len(data[data.labels == 0]), '\\n')\n",
    "print ('Total tweet count in training sampple:', len(X_train))\n",
    "print ('Total tweet count in test sample:    ', len(X_test))\n",
    "print ('Normal  tweet count in X_train:', X_train[y_train == 1].count())\n",
    "print ('Hateful tweet count in X_train:', X_train[y_train == 0].count())\n",
    "print ('Normal  tweet count in X_test: ', X_test[y_test == 1].count())\n",
    "print ('Hateful tweet count in X_test: ', X_test[y_test == 0].count())"
   ]
  },
  {
   "cell_type": "markdown",
   "metadata": {},
   "source": [
    "Fitting and transforming tfidfvectorizer on training sentences and transforming testing sentences based on training sentences\n",
    "Create a pickle file containing tfidf fitted vectorizer so that we can call in our python file"
   ]
  },
  {
   "cell_type": "code",
   "execution_count": 10,
   "metadata": {
    "colab": {
     "base_uri": "https://localhost:8080/",
     "height": 34
    },
    "colab_type": "code",
    "executionInfo": {
     "elapsed": 1379,
     "status": "ok",
     "timestamp": 1557839658880,
     "user": {
      "displayName": "Keçiler Firarda",
      "photoUrl": "https://lh5.googleusercontent.com/-dUH0FLxxGuo/AAAAAAAAAAI/AAAAAAAAAB4/oXM_qmhqFsM/s64/photo.jpg",
      "userId": "11065118399992837630"
     },
     "user_tz": -180
    },
    "id": "T9n-slF7dTus",
    "outputId": "9fc437ba-39b4-4daa-97f1-f7eda0ed1cb9"
   },
   "outputs": [
    {
     "name": "stdout",
     "output_type": "stream",
     "text": [
      "(69416, 49382)\n"
     ]
    }
   ],
   "source": [
    "import pickle\n",
    "cv = CountVectorizer()\n",
    "tfidftrans = TfidfVectorizer()\n",
    "X_train = tfidftrans.fit_transform(X_train)\n",
    "print(X_train.shape)\n",
    "pickle.dump(tfidftrans, open(\"tfidf.pickle\", \"wb\"))"
   ]
  },
  {
   "cell_type": "code",
   "execution_count": 11,
   "metadata": {},
   "outputs": [
    {
     "name": "stdout",
     "output_type": "stream",
     "text": [
      "(29750, 49382)\n"
     ]
    }
   ],
   "source": [
    "X_test = tfidftrans.transform(X_test)\n",
    "print(X_test.shape)"
   ]
  },
  {
   "cell_type": "markdown",
   "metadata": {},
   "source": [
    "Feeding the data to MultinomialNB, KNN ,Logistic regression, Decision Tree\n",
    "Adding the accuracy scores to a dictionary to compare later"
   ]
  },
  {
   "cell_type": "code",
   "execution_count": 13,
   "metadata": {},
   "outputs": [
    {
     "name": "stdout",
     "output_type": "stream",
     "text": [
      "0.8883361344537816\n",
      "              precision    recall  f1-score   support\n",
      "\n",
      "           0       0.88      0.83      0.85     11644\n",
      "           1       0.89      0.93      0.91     18106\n",
      "\n",
      "    accuracy                           0.89     29750\n",
      "   macro avg       0.89      0.88      0.88     29750\n",
      "weighted avg       0.89      0.89      0.89     29750\n",
      "\n",
      "[[ 9665  1979]\n",
      " [ 1343 16763]]\n"
     ]
    }
   ],
   "source": [
    "def training(clf,x_train,Y_train):\n",
    "    clf.fit(x_train,Y_train)\n",
    "def predict(clf,X_test):\n",
    "    return clf.predict(X_test)\n",
    "dict={}\n",
    "from sklearn.metrics import confusion_matrix,accuracy_score,roc_curve,classification_report\n",
    "from sklearn.naive_bayes import MultinomialNB\n",
    "mnb = MultinomialNB(alpha =0.2)\n",
    "training(mnb,X_train,y_train)\n",
    "pred = predict(mnb,X_test)\n",
    "print(accuracy_score(y_test,pred,normalize=True))\n",
    "print(classification_report(y_test, pred))\n",
    "print(confusion_matrix(y_test,pred))\n",
    "dict[mnb]=accuracy_score(y_test,pred,normalize=True)"
   ]
  },
  {
   "cell_type": "code",
   "execution_count": 14,
   "metadata": {},
   "outputs": [
    {
     "name": "stdout",
     "output_type": "stream",
     "text": [
      "k =  1\n",
      "0.7767394957983194\n",
      "              precision    recall  f1-score   support\n",
      "\n",
      "           0       0.90      0.48      0.63     11644\n",
      "           1       0.74      0.97      0.84     18106\n",
      "\n",
      "    accuracy                           0.78     29750\n",
      "   macro avg       0.82      0.72      0.73     29750\n",
      "weighted avg       0.80      0.78      0.76     29750\n",
      "\n",
      "[[ 5632  6012]\n",
      " [  630 17476]]\n",
      "k =  2\n",
      "0.776235294117647\n",
      "              precision    recall  f1-score   support\n",
      "\n",
      "           0       0.88      0.50      0.63     11644\n",
      "           1       0.75      0.96      0.84     18106\n",
      "\n",
      "    accuracy                           0.78     29750\n",
      "   macro avg       0.81      0.73      0.74     29750\n",
      "weighted avg       0.80      0.78      0.76     29750\n",
      "\n",
      "[[ 5769  5875]\n",
      " [  782 17324]]\n",
      "k =  3\n",
      "0.7519663865546219\n",
      "              precision    recall  f1-score   support\n",
      "\n",
      "           0       0.94      0.39      0.55     11644\n",
      "           1       0.72      0.98      0.83     18106\n",
      "\n",
      "    accuracy                           0.75     29750\n",
      "   macro avg       0.83      0.69      0.69     29750\n",
      "weighted avg       0.80      0.75      0.72     29750\n",
      "\n",
      "[[ 4572  7072]\n",
      " [  307 17799]]\n",
      "k =  4\n",
      "0.7603697478991597\n",
      "              precision    recall  f1-score   support\n",
      "\n",
      "           0       0.92      0.43      0.58     11644\n",
      "           1       0.73      0.98      0.83     18106\n",
      "\n",
      "    accuracy                           0.76     29750\n",
      "   macro avg       0.82      0.70      0.71     29750\n",
      "weighted avg       0.80      0.76      0.73     29750\n",
      "\n",
      "[[ 4957  6687]\n",
      " [  442 17664]]\n"
     ]
    }
   ],
   "source": [
    "from sklearn.neighbors import KNeighborsClassifier\n",
    "for i in range(1,5):\n",
    "    knn = KNeighborsClassifier(n_neighbors=i)\n",
    "    training(knn,X_train,y_train)\n",
    "    pred = predict(knn,X_test)\n",
    "    print('k = ',i)\n",
    "    print(accuracy_score(y_test,pred,normalize=True))\n",
    "    print(classification_report(y_test, pred))\n",
    "    print(confusion_matrix(y_test,pred))\n",
    "    dict[knn,i]=accuracy_score(y_test,pred,normalize=True)"
   ]
  },
  {
   "cell_type": "code",
   "execution_count": 15,
   "metadata": {},
   "outputs": [
    {
     "name": "stdout",
     "output_type": "stream",
     "text": [
      "0.9166050420168067\n",
      "              precision    recall  f1-score   support\n",
      "\n",
      "           0       0.89      0.90      0.89     11644\n",
      "           1       0.94      0.93      0.93     18106\n",
      "\n",
      "    accuracy                           0.92     29750\n",
      "   macro avg       0.91      0.91      0.91     29750\n",
      "weighted avg       0.92      0.92      0.92     29750\n",
      "\n",
      "[[10491  1153]\n",
      " [ 1328 16778]]\n"
     ]
    }
   ],
   "source": [
    "from sklearn.tree import DecisionTreeClassifier\n",
    "dt = DecisionTreeClassifier()\n",
    "training(dt,X_train,y_train)\n",
    "pred = predict(dt,X_test)\n",
    "print(accuracy_score(y_test,pred,normalize=True))\n",
    "print(classification_report(y_test, pred))\n",
    "print(confusion_matrix(y_test,pred))\n",
    "dict[dt]=accuracy_score(y_test,pred,normalize=True)"
   ]
  },
  {
   "cell_type": "code",
   "execution_count": 16,
   "metadata": {},
   "outputs": [
    {
     "name": "stdout",
     "output_type": "stream",
     "text": [
      "0.9355294117647058\n",
      "              precision    recall  f1-score   support\n",
      "\n",
      "           0       0.95      0.88      0.91     11644\n",
      "           1       0.93      0.97      0.95     18106\n",
      "\n",
      "    accuracy                           0.94     29750\n",
      "   macro avg       0.94      0.93      0.93     29750\n",
      "weighted avg       0.94      0.94      0.94     29750\n",
      "\n",
      "[[10250  1394]\n",
      " [  524 17582]]\n"
     ]
    }
   ],
   "source": [
    "from sklearn.linear_model import LogisticRegression\n",
    "lr = LogisticRegression(max_iter=10000)\n",
    "training(lr,X_train,y_train)\n",
    "pred = predict(lr,X_test)\n",
    "print(accuracy_score(y_test,pred,normalize=True))\n",
    "print(classification_report(y_test, pred))\n",
    "print(confusion_matrix(y_test,pred))\n",
    "dict[lr]=accuracy_score(y_test,pred,normalize=True)"
   ]
  },
  {
   "cell_type": "markdown",
   "metadata": {},
   "source": [
    "Finding model with highest accuracy and creating a pickle file of respective model to call in python file"
   ]
  },
  {
   "cell_type": "code",
   "execution_count": 17,
   "metadata": {},
   "outputs": [
    {
     "name": "stdout",
     "output_type": "stream",
     "text": [
      "0.9355294117647058\n",
      "LogisticRegression(max_iter=10000)\n"
     ]
    }
   ],
   "source": [
    "n=max(dict.values())\n",
    "print(n)\n",
    "for name,predicted in dict.items():\n",
    "    if predicted==n:\n",
    "        print(name)\n",
    "        model=name"
   ]
  },
  {
   "cell_type": "code",
   "execution_count": 18,
   "metadata": {},
   "outputs": [
    {
     "name": "stderr",
     "output_type": "stream",
     "text": [
      "c:\\users\\hp\\appdata\\local\\programs\\python\\python39\\lib\\site-packages\\numpy\\lib\\stride_tricks.py:116: VisibleDeprecationWarning: Creating an ndarray from ragged nested sequences (which is a list-or-tuple of lists-or-tuples-or ndarrays with different lengths or shapes) is deprecated. If you meant to do this, you must specify 'dtype=object' when creating the ndarray\n",
      "  array = np.array(array, copy=False, subok=subok)\n"
     ]
    },
    {
     "data": {
      "image/png": "[encoded data removed]",
      "text/plain": [
       "<Figure size 432x288 with 1 Axes>"
      ]
     },
     "metadata": {
      "needs_background": "light"
     },
     "output_type": "display_data"
    }
   ],
   "source": [
    "import matplotlib.pyplot as plt\n",
    "names = list(dict.keys())\n",
    "values = list(dict.values())\n",
    "plt.barh(range(len(dict)), values, tick_label=names)\n",
    "plt.show()"
   ]
  },
  {
   "cell_type": "code",
   "execution_count": 19,
   "metadata": {},
   "outputs": [],
   "source": [
    "import pickle\n",
    "with open('hate_speech.pickle', 'wb') as handle:\n",
    "    pickle.dump(model, handle, protocol=4)"
   ]
  },
  {
   "cell_type": "markdown",
   "metadata": {},
   "source": [
    "TESTING"
   ]
  },
  {
   "cell_type": "code",
   "execution_count": 21,
   "metadata": {},
   "outputs": [
    {
     "name": "stdout",
     "output_type": "stream",
     "text": [
      "sentence: I fucking hate you😠\n",
      "hateful\n"
     ]
    }
   ],
   "source": [
    "sentence = input(\"sentence: \")\n",
    "def clean_text(sentence):\n",
    "    sentence = sentence.lower()\n",
    "    sentence = re.sub('(@[^\\s]+)|(#[^\\s]+)', '', sentence)\n",
    "    sentence = re.sub('((www\\.[^\\s]+)|(https?://[^\\s]+))','',sentence)\n",
    "    sentence = re.sub(r'[ ]+', ' ', sentence)\n",
    "    words = word_tokenize(sentence)\n",
    "    words = [word for word in words if not word in STOPWORDS]\n",
    "    clean_sentence=[]\n",
    "    for word in words:\n",
    "        clean_sentence.append(\" \")\n",
    "    return \"\".join(clean_sentence)\n",
    "clean_text(sentence)\n",
    "sentence=emoticon(sentence)\n",
    "stemmed = stemSentence(sentence)\n",
    "sentence=[stemmed]\n",
    "sentence = tfidftrans.transform(sentence)\n",
    "print('normal' if lr.predict(sentence)==1 else 'hateful')"
   ]
  },
  {
   "cell_type": "code",
   "execution_count": null,
   "metadata": {},
   "outputs": [],
   "source": []
  }
 ],
 "metadata": {
  "colab": {
   "collapsed_sections": [],
   "name": "NB_SVM_LogReg_KNN_DT_RF_GB_XGB.ipynb",
   "provenance": [
    {
     "file_id": "1QA5mN7kdiFlrXEN3k_SWKbHWbPxKmgRf",
     "timestamp": 1557476569585
    }
   ],
   "version": "0.3.2"
  },
  "kernelspec": {
   "display_name": "Python 3",
   "language": "python",
   "name": "python3"
  },
  "language_info": {
   "codemirror_mode": {
    "name": "ipython",
    "version": 3
   },
   "file_extension": ".py",
   "mimetype": "text/x-python",
   "name": "python",
   "nbconvert_exporter": "python",
   "pygments_lexer": "ipython3",
   "version": "3.9.0"
  }
 },
 "nbformat": 4,
 "nbformat_minor": 1
}
